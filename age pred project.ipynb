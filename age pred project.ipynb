{
 "cells": [
  {
   "cell_type": "code",
   "execution_count": 79,
   "metadata": {},
   "outputs": [],
   "source": [
    "import librosa\n",
    "import numpy as np\n",
    "import joblib\n",
    "\n",
    "# Load the saved model\n",
    "filename = r\"C:\\Users\\Jayasuriya\\Downloads\\svm_for_age_pred.sav\"\n",
    "loaded_model = joblib.load(filename)\n",
    "\n",
    "# Load new audio data\n",
    "new_audio, sr = librosa.load(r\"C:\\Users\\Jayasuriya\\Downloads\\sample-000065.wav\")\n",
    "\n",
    "# Extract mfcc features from new audio data\n",
    "mfccs = librosa.feature.mfcc(y=new_audio, sr=sr, n_mfcc=22)\n",
    "new_X = mfccs.T\n",
    "\n",
    "# Make prediction with loaded model\n",
    "new_y_pred = loaded_model.predict(new_X)\n"
   ]
  },
  {
   "cell_type": "code",
   "execution_count": 77,
   "metadata": {},
   "outputs": [],
   "source": [
    "def map_label_to_age(label):\n",
    "    if label == 7:\n",
    "        return 'twenties'\n",
    "    elif label == 6:\n",
    "        return 'thirties'\n",
    "    elif label == 2:\n",
    "        return 'fourties'\n",
    "    elif label == 1:\n",
    "        return 'fifties'\n",
    "    elif label == 5:\n",
    "        return 'teens'\n",
    "    elif label == 4:\n",
    "        return 'sixties'\n",
    "    elif label == 3:\n",
    "        return 'seventies'\n",
    "    elif label == 0:\n",
    "        return 'eighties'\n",
    "    else:\n",
    "        return 'unknown'\n"
   ]
  },
  {
   "cell_type": "code",
   "execution_count": 85,
   "metadata": {},
   "outputs": [
    {
     "name": "stdout",
     "output_type": "stream",
     "text": [
      "Predicted age group: twenties\n"
     ]
    }
   ],
   "source": [
    "predicted_label = loaded_model.predict(new_X)\n",
    "predicted_age_group = map_label_to_age(predicted_label[150])\n",
    "print(\"Predicted age group:\", predicted_age_group)\n"
   ]
  },
  {
   "cell_type": "code",
   "execution_count": 73,
   "metadata": {},
   "outputs": [
    {
     "name": "stdout",
     "output_type": "stream",
     "text": [
      "Kernel type: rbf\n",
      "C value: 100\n",
      "Gamma value: scale\n"
     ]
    }
   ],
   "source": [
    "print(\"Kernel type:\", loaded_model.kernel)\n",
    "print(\"C value:\", loaded_model.C)\n",
    "print(\"Gamma value:\", loaded_model.gamma)\n"
   ]
  },
  {
   "cell_type": "code",
   "execution_count": null,
   "metadata": {},
   "outputs": [],
   "source": []
  }
 ],
 "metadata": {
  "kernelspec": {
   "display_name": "Python 3 (ipykernel)",
   "language": "python",
   "name": "python3"
  },
  "language_info": {
   "codemirror_mode": {
    "name": "ipython",
    "version": 3
   },
   "file_extension": ".py",
   "mimetype": "text/x-python",
   "name": "python",
   "nbconvert_exporter": "python",
   "pygments_lexer": "ipython3",
   "version": "3.9.16"
  }
 },
 "nbformat": 4,
 "nbformat_minor": 4
}
