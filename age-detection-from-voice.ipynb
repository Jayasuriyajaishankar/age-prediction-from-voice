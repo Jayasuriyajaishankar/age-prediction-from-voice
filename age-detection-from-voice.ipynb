{
 "cells": [
  {
   "cell_type": "code",
   "execution_count": 20,
   "metadata": {
    "execution": {
     "iopub.execute_input": "2023-04-17T02:06:34.851227Z",
     "iopub.status.busy": "2023-04-17T02:06:34.850672Z",
     "iopub.status.idle": "2023-04-17T02:06:35.281853Z",
     "shell.execute_reply": "2023-04-17T02:06:35.280623Z",
     "shell.execute_reply.started": "2023-04-17T02:06:34.851173Z"
    }
   },
   "outputs": [
    {
     "data": {
      "text/html": [
       "<div>\n",
       "<style scoped>\n",
       "    .dataframe tbody tr th:only-of-type {\n",
       "        vertical-align: middle;\n",
       "    }\n",
       "\n",
       "    .dataframe tbody tr th {\n",
       "        vertical-align: top;\n",
       "    }\n",
       "\n",
       "    .dataframe thead th {\n",
       "        text-align: right;\n",
       "    }\n",
       "</style>\n",
       "<table border=\"1\" class=\"dataframe\">\n",
       "  <thead>\n",
       "    <tr style=\"text-align: right;\">\n",
       "      <th></th>\n",
       "      <th>filename</th>\n",
       "      <th>text</th>\n",
       "      <th>up_votes</th>\n",
       "      <th>down_votes</th>\n",
       "      <th>age</th>\n",
       "      <th>gender</th>\n",
       "      <th>accent</th>\n",
       "      <th>duration</th>\n",
       "    </tr>\n",
       "  </thead>\n",
       "  <tbody>\n",
       "    <tr>\n",
       "      <th>5</th>\n",
       "      <td>cv-valid-train/sample-000005.mp3</td>\n",
       "      <td>a shepherd may like to travel but he should ne...</td>\n",
       "      <td>1</td>\n",
       "      <td>0</td>\n",
       "      <td>twenties</td>\n",
       "      <td>female</td>\n",
       "      <td>us</td>\n",
       "      <td>NaN</td>\n",
       "    </tr>\n",
       "    <tr>\n",
       "      <th>8</th>\n",
       "      <td>cv-valid-train/sample-000008.mp3</td>\n",
       "      <td>put jackie right on the staff</td>\n",
       "      <td>3</td>\n",
       "      <td>0</td>\n",
       "      <td>seventies</td>\n",
       "      <td>male</td>\n",
       "      <td>us</td>\n",
       "      <td>NaN</td>\n",
       "    </tr>\n",
       "    <tr>\n",
       "      <th>13</th>\n",
       "      <td>cv-valid-train/sample-000013.mp3</td>\n",
       "      <td>but he had found a guide and didn't want to mi...</td>\n",
       "      <td>1</td>\n",
       "      <td>0</td>\n",
       "      <td>thirties</td>\n",
       "      <td>female</td>\n",
       "      <td>us</td>\n",
       "      <td>NaN</td>\n",
       "    </tr>\n",
       "    <tr>\n",
       "      <th>14</th>\n",
       "      <td>cv-valid-train/sample-000014.mp3</td>\n",
       "      <td>as they began to decorate the hallway a silhou...</td>\n",
       "      <td>1</td>\n",
       "      <td>0</td>\n",
       "      <td>sixties</td>\n",
       "      <td>male</td>\n",
       "      <td>england</td>\n",
       "      <td>NaN</td>\n",
       "    </tr>\n",
       "    <tr>\n",
       "      <th>19</th>\n",
       "      <td>cv-valid-train/sample-000019.mp3</td>\n",
       "      <td>then they got ahold of some dough and went goofy</td>\n",
       "      <td>1</td>\n",
       "      <td>0</td>\n",
       "      <td>fifties</td>\n",
       "      <td>male</td>\n",
       "      <td>australia</td>\n",
       "      <td>NaN</td>\n",
       "    </tr>\n",
       "  </tbody>\n",
       "</table>\n",
       "</div>"
      ],
      "text/plain": [
       "                            filename  \\\n",
       "5   cv-valid-train/sample-000005.mp3   \n",
       "8   cv-valid-train/sample-000008.mp3   \n",
       "13  cv-valid-train/sample-000013.mp3   \n",
       "14  cv-valid-train/sample-000014.mp3   \n",
       "19  cv-valid-train/sample-000019.mp3   \n",
       "\n",
       "                                                 text  up_votes  down_votes  \\\n",
       "5   a shepherd may like to travel but he should ne...         1           0   \n",
       "8                       put jackie right on the staff         3           0   \n",
       "13  but he had found a guide and didn't want to mi...         1           0   \n",
       "14  as they began to decorate the hallway a silhou...         1           0   \n",
       "19   then they got ahold of some dough and went goofy         1           0   \n",
       "\n",
       "          age  gender     accent  duration  \n",
       "5    twenties  female         us       NaN  \n",
       "8   seventies    male         us       NaN  \n",
       "13   thirties  female         us       NaN  \n",
       "14    sixties    male    england       NaN  \n",
       "19    fifties    male  australia       NaN  "
      ]
     },
     "execution_count": 20,
     "metadata": {},
     "output_type": "execute_result"
    }
   ],
   "source": [
    "import numpy as np \n",
    "import pandas as pd \n",
    "import matplotlib.pyplot as plt \n",
    "import seaborn as sns \n",
    "import sklearn \n",
    "import warnings\n",
    "warnings.filterwarnings('ignore')\n",
    "\n",
    "# load dataset from input directory\n",
    "df = pd.read_csv(\"../input/common-voice/cv-valid-train.csv\") \n",
    "df[df['age'].notna()].head()"
   ]
  },
  {
   "cell_type": "code",
   "execution_count": 21,
   "metadata": {
    "execution": {
     "iopub.execute_input": "2023-04-17T02:06:36.807975Z",
     "iopub.status.busy": "2023-04-17T02:06:36.807335Z",
     "iopub.status.idle": "2023-04-17T02:06:37.079687Z",
     "shell.execute_reply": "2023-04-17T02:06:37.078460Z",
     "shell.execute_reply.started": "2023-04-17T02:06:36.807927Z"
    }
   },
   "outputs": [
    {
     "data": {
      "image/png": "[encoded data removed]",
      "text/plain": [
       "<Figure size 1080x360 with 1 Axes>"
      ]
     },
     "metadata": {},
     "output_type": "display_data"
    }
   ],
   "source": [
    "sns.set(rc={'figure.figsize':(15, 5)})\n",
    "sns.countplot(x=\"age\", \n",
    "        data=df[df['age'].notna()], \n",
    "        order=['teens', 'twenties', 'thirties', 'fourties', 'fifties', 'sixties', 'seventies', 'eighties'])\n",
    "\n",
    "plt.show()\n"
   ]
  },
  {
   "cell_type": "code",
   "execution_count": 22,
   "metadata": {
    "execution": {
     "iopub.execute_input": "2023-04-17T02:06:44.631233Z",
     "iopub.status.busy": "2023-04-17T02:06:44.630720Z",
     "iopub.status.idle": "2023-04-17T02:06:44.672626Z",
     "shell.execute_reply": "2023-04-17T02:06:44.671644Z",
     "shell.execute_reply.started": "2023-04-17T02:06:44.631183Z"
    }
   },
   "outputs": [
    {
     "data": {
      "text/html": [
       "<div>\n",
       "<style scoped>\n",
       "    .dataframe tbody tr th:only-of-type {\n",
       "        vertical-align: middle;\n",
       "    }\n",
       "\n",
       "    .dataframe tbody tr th {\n",
       "        vertical-align: top;\n",
       "    }\n",
       "\n",
       "    .dataframe thead th {\n",
       "        text-align: right;\n",
       "    }\n",
       "</style>\n",
       "<table border=\"1\" class=\"dataframe\">\n",
       "  <thead>\n",
       "    <tr style=\"text-align: right;\">\n",
       "      <th></th>\n",
       "      <th>filename</th>\n",
       "      <th>age</th>\n",
       "    </tr>\n",
       "  </thead>\n",
       "  <tbody>\n",
       "    <tr>\n",
       "      <th>0</th>\n",
       "      <td>cv-valid-train/sample-000005.mp3</td>\n",
       "      <td>twenties</td>\n",
       "    </tr>\n",
       "    <tr>\n",
       "      <th>1</th>\n",
       "      <td>cv-valid-train/sample-000008.mp3</td>\n",
       "      <td>seventies</td>\n",
       "    </tr>\n",
       "    <tr>\n",
       "      <th>2</th>\n",
       "      <td>cv-valid-train/sample-000013.mp3</td>\n",
       "      <td>thirties</td>\n",
       "    </tr>\n",
       "    <tr>\n",
       "      <th>3</th>\n",
       "      <td>cv-valid-train/sample-000014.mp3</td>\n",
       "      <td>sixties</td>\n",
       "    </tr>\n",
       "    <tr>\n",
       "      <th>4</th>\n",
       "      <td>cv-valid-train/sample-000019.mp3</td>\n",
       "      <td>fifties</td>\n",
       "    </tr>\n",
       "  </tbody>\n",
       "</table>\n",
       "</div>"
      ],
      "text/plain": [
       "                           filename        age\n",
       "0  cv-valid-train/sample-000005.mp3   twenties\n",
       "1  cv-valid-train/sample-000008.mp3  seventies\n",
       "2  cv-valid-train/sample-000013.mp3   thirties\n",
       "3  cv-valid-train/sample-000014.mp3    sixties\n",
       "4  cv-valid-train/sample-000019.mp3    fifties"
      ]
     },
     "execution_count": 22,
     "metadata": {},
     "output_type": "execute_result"
    }
   ],
   "source": [
    "df = df[['filename','age']]\n",
    "\n",
    "#To clean the data we remove the sample with NaN attribute values.\n",
    "data = df[df['age'].notna()]\n",
    "data.reset_index(inplace=True, drop=True)\n",
    "data.head()"
   ]
  },
  {
   "cell_type": "markdown",
   "metadata": {},
   "source": [
    " FEATURE EXTRACTION"
   ]
  },
  {
   "cell_type": "code",
   "execution_count": 23,
   "metadata": {
    "execution": {
     "iopub.execute_input": "2023-04-17T02:06:51.594984Z",
     "iopub.status.busy": "2023-04-17T02:06:51.594221Z",
     "iopub.status.idle": "2023-04-17T02:06:51.892289Z",
     "shell.execute_reply": "2023-04-17T02:06:51.890540Z",
     "shell.execute_reply.started": "2023-04-17T02:06:51.594910Z"
    }
   },
   "outputs": [
    {
     "name": "stdout",
     "output_type": "stream",
     "text": [
      "features:  [2679.9395691628692, 3347.669488765762, 5745.486745886655, -625.21814, 111.32094, 6.3269944, 34.757614, 31.619902, -4.714646, -0.48603064, -4.9340243, -12.714733, -2.0551484, -3.7411177, -10.702963, -11.202637, -12.003523, -8.48958, -5.463276, -4.9542165, -3.7151983, -6.3305287, -6.3384743]\n"
     ]
    }
   ],
   "source": [
    "import librosa\n",
    "ds_path = \"/kaggle/input/common-voice/cv-valid-train/\"\n",
    "\n",
    "#this function is used to extract audio frequency features\n",
    "def feature_extraction(filename, sampling_rate=48000):\n",
    "    path = \"{}{}\".format(ds_path, filename)\n",
    "    features = list()\n",
    "    audio, _ = librosa.load(path, sr=sampling_rate)\n",
    "    \n",
    "    \n",
    "    spectral_centroid = np.mean(librosa.feature.spectral_centroid(y=audio, sr=sampling_rate))\n",
    "    spectral_bandwidth = np.mean(librosa.feature.spectral_bandwidth(y=audio, sr=sampling_rate))\n",
    "    spectral_rolloff = np.mean(librosa.feature.spectral_rolloff(y=audio, sr=sampling_rate))\n",
    "    features.append(spectral_centroid)\n",
    "    features.append(spectral_bandwidth)\n",
    "    features.append(spectral_rolloff)\n",
    "    \n",
    "    mfcc = librosa.feature.mfcc(y=audio, sr=sampling_rate)\n",
    "    for el in mfcc:\n",
    "        features.append(np.mean(el))\n",
    "    \n",
    "    return features\n",
    "    \n",
    "        \n",
    "features = feature_extraction(data.iloc[0]['filename'])\n",
    "print(\"features: \", features)"
   ]
  },
  {
   "cell_type": "code",
   "execution_count": 54,
   "metadata": {
    "execution": {
     "iopub.execute_input": "2023-04-17T02:51:38.361002Z",
     "iopub.status.busy": "2023-04-17T02:51:38.360506Z",
     "iopub.status.idle": "2023-04-17T04:54:08.090130Z",
     "shell.execute_reply": "2023-04-17T04:54:08.088590Z",
     "shell.execute_reply.started": "2023-04-17T02:51:38.360956Z"
    }
   },
   "outputs": [
    {
     "name": "stdout",
     "output_type": "stream",
     "text": [
      "29999/73767"
     ]
    },
    {
     "data": {
      "text/html": [
       "<div>\n",
       "<style scoped>\n",
       "    .dataframe tbody tr th:only-of-type {\n",
       "        vertical-align: middle;\n",
       "    }\n",
       "\n",
       "    .dataframe tbody tr th {\n",
       "        vertical-align: top;\n",
       "    }\n",
       "\n",
       "    .dataframe thead th {\n",
       "        text-align: right;\n",
       "    }\n",
       "</style>\n",
       "<table border=\"1\" class=\"dataframe\">\n",
       "  <thead>\n",
       "    <tr style=\"text-align: right;\">\n",
       "      <th></th>\n",
       "      <th>spectral_centroid</th>\n",
       "      <th>spectral_bandwidth</th>\n",
       "      <th>spectral_rolloff</th>\n",
       "      <th>mfcc1</th>\n",
       "      <th>mfcc2</th>\n",
       "      <th>mfcc3</th>\n",
       "      <th>mfcc4</th>\n",
       "      <th>mfcc5</th>\n",
       "      <th>mfcc6</th>\n",
       "      <th>mfcc7</th>\n",
       "      <th>...</th>\n",
       "      <th>mfcc12</th>\n",
       "      <th>mfcc13</th>\n",
       "      <th>mfcc14</th>\n",
       "      <th>mfcc15</th>\n",
       "      <th>mfcc16</th>\n",
       "      <th>mfcc17</th>\n",
       "      <th>mfcc18</th>\n",
       "      <th>mfcc19</th>\n",
       "      <th>mfcc20</th>\n",
       "      <th>label</th>\n",
       "    </tr>\n",
       "  </thead>\n",
       "  <tbody>\n",
       "    <tr>\n",
       "      <th>0</th>\n",
       "      <td>2679.939569</td>\n",
       "      <td>3347.669489</td>\n",
       "      <td>5745.486746</td>\n",
       "      <td>-625.218140</td>\n",
       "      <td>111.320938</td>\n",
       "      <td>6.326994</td>\n",
       "      <td>34.757614</td>\n",
       "      <td>31.619902</td>\n",
       "      <td>-4.714646</td>\n",
       "      <td>-0.486031</td>\n",
       "      <td>...</td>\n",
       "      <td>-10.702963</td>\n",
       "      <td>-11.202637</td>\n",
       "      <td>-12.003523</td>\n",
       "      <td>-8.489580</td>\n",
       "      <td>-5.463276</td>\n",
       "      <td>-4.954216</td>\n",
       "      <td>-3.715198</td>\n",
       "      <td>-6.330529</td>\n",
       "      <td>-6.338474</td>\n",
       "      <td>twenties</td>\n",
       "    </tr>\n",
       "    <tr>\n",
       "      <th>1</th>\n",
       "      <td>2859.467798</td>\n",
       "      <td>2576.661658</td>\n",
       "      <td>4912.241181</td>\n",
       "      <td>-469.897675</td>\n",
       "      <td>126.299873</td>\n",
       "      <td>-16.546749</td>\n",
       "      <td>3.553606</td>\n",
       "      <td>2.178288</td>\n",
       "      <td>13.770478</td>\n",
       "      <td>-1.293437</td>\n",
       "      <td>...</td>\n",
       "      <td>-10.987108</td>\n",
       "      <td>1.146530</td>\n",
       "      <td>6.103549</td>\n",
       "      <td>-1.724739</td>\n",
       "      <td>-1.226475</td>\n",
       "      <td>-6.429199</td>\n",
       "      <td>-7.261915</td>\n",
       "      <td>-4.788061</td>\n",
       "      <td>-3.121077</td>\n",
       "      <td>seventies</td>\n",
       "    </tr>\n",
       "    <tr>\n",
       "      <th>2</th>\n",
       "      <td>1976.049163</td>\n",
       "      <td>1830.611037</td>\n",
       "      <td>3344.301008</td>\n",
       "      <td>-418.205048</td>\n",
       "      <td>147.668320</td>\n",
       "      <td>-49.972744</td>\n",
       "      <td>-2.285531</td>\n",
       "      <td>37.187012</td>\n",
       "      <td>-8.904264</td>\n",
       "      <td>-14.226655</td>\n",
       "      <td>...</td>\n",
       "      <td>-13.845863</td>\n",
       "      <td>-9.927490</td>\n",
       "      <td>-7.871619</td>\n",
       "      <td>-5.473860</td>\n",
       "      <td>-2.295655</td>\n",
       "      <td>-6.554991</td>\n",
       "      <td>-5.206914</td>\n",
       "      <td>-0.407431</td>\n",
       "      <td>-3.882371</td>\n",
       "      <td>thirties</td>\n",
       "    </tr>\n",
       "    <tr>\n",
       "      <th>3</th>\n",
       "      <td>2333.782018</td>\n",
       "      <td>2533.276030</td>\n",
       "      <td>4398.731436</td>\n",
       "      <td>-464.911224</td>\n",
       "      <td>118.436134</td>\n",
       "      <td>19.749296</td>\n",
       "      <td>27.143938</td>\n",
       "      <td>26.439018</td>\n",
       "      <td>2.309575</td>\n",
       "      <td>-9.354494</td>\n",
       "      <td>...</td>\n",
       "      <td>-5.458494</td>\n",
       "      <td>-2.907650</td>\n",
       "      <td>-4.495940</td>\n",
       "      <td>-2.715732</td>\n",
       "      <td>-0.079105</td>\n",
       "      <td>-5.292979</td>\n",
       "      <td>-5.866175</td>\n",
       "      <td>0.601412</td>\n",
       "      <td>-3.376775</td>\n",
       "      <td>sixties</td>\n",
       "    </tr>\n",
       "    <tr>\n",
       "      <th>4</th>\n",
       "      <td>2351.958974</td>\n",
       "      <td>2974.758776</td>\n",
       "      <td>4743.172457</td>\n",
       "      <td>-343.828766</td>\n",
       "      <td>157.151764</td>\n",
       "      <td>7.660183</td>\n",
       "      <td>41.900478</td>\n",
       "      <td>-15.153757</td>\n",
       "      <td>28.925409</td>\n",
       "      <td>0.091549</td>\n",
       "      <td>...</td>\n",
       "      <td>0.101646</td>\n",
       "      <td>6.319596</td>\n",
       "      <td>-1.603062</td>\n",
       "      <td>3.837600</td>\n",
       "      <td>-2.643968</td>\n",
       "      <td>2.324786</td>\n",
       "      <td>-1.382977</td>\n",
       "      <td>3.790324</td>\n",
       "      <td>-3.534814</td>\n",
       "      <td>fifties</td>\n",
       "    </tr>\n",
       "  </tbody>\n",
       "</table>\n",
       "<p>5 rows × 24 columns</p>\n",
       "</div>"
      ],
      "text/plain": [
       "   spectral_centroid  spectral_bandwidth  spectral_rolloff       mfcc1  \\\n",
       "0        2679.939569         3347.669489       5745.486746 -625.218140   \n",
       "1        2859.467798         2576.661658       4912.241181 -469.897675   \n",
       "2        1976.049163         1830.611037       3344.301008 -418.205048   \n",
       "3        2333.782018         2533.276030       4398.731436 -464.911224   \n",
       "4        2351.958974         2974.758776       4743.172457 -343.828766   \n",
       "\n",
       "        mfcc2      mfcc3      mfcc4      mfcc5      mfcc6      mfcc7  ...  \\\n",
       "0  111.320938   6.326994  34.757614  31.619902  -4.714646  -0.486031  ...   \n",
       "1  126.299873 -16.546749   3.553606   2.178288  13.770478  -1.293437  ...   \n",
       "2  147.668320 -49.972744  -2.285531  37.187012  -8.904264 -14.226655  ...   \n",
       "3  118.436134  19.749296  27.143938  26.439018   2.309575  -9.354494  ...   \n",
       "4  157.151764   7.660183  41.900478 -15.153757  28.925409   0.091549  ...   \n",
       "\n",
       "      mfcc12     mfcc13     mfcc14    mfcc15    mfcc16    mfcc17    mfcc18  \\\n",
       "0 -10.702963 -11.202637 -12.003523 -8.489580 -5.463276 -4.954216 -3.715198   \n",
       "1 -10.987108   1.146530   6.103549 -1.724739 -1.226475 -6.429199 -7.261915   \n",
       "2 -13.845863  -9.927490  -7.871619 -5.473860 -2.295655 -6.554991 -5.206914   \n",
       "3  -5.458494  -2.907650  -4.495940 -2.715732 -0.079105 -5.292979 -5.866175   \n",
       "4   0.101646   6.319596  -1.603062  3.837600 -2.643968  2.324786 -1.382977   \n",
       "\n",
       "     mfcc19    mfcc20      label  \n",
       "0 -6.330529 -6.338474   twenties  \n",
       "1 -4.788061 -3.121077  seventies  \n",
       "2 -0.407431 -3.882371   thirties  \n",
       "3  0.601412 -3.376775    sixties  \n",
       "4  3.790324 -3.534814    fifties  \n",
       "\n",
       "[5 rows x 24 columns]"
      ]
     },
     "execution_count": 54,
     "metadata": {},
     "output_type": "execute_result"
    }
   ],
   "source": [
    "\n",
    "def create_df_features(orig):\n",
    "    new_rows = list()\n",
    "    tot_rows = len(orig)-1\n",
    "    stop_counter = 30000\n",
    "    \n",
    "    for idx, row in orig.iterrows():\n",
    "        if idx >= stop_counter: break\n",
    "        print(\"\\r\", end=\"\")\n",
    "        print(\"{}/{}\".format(idx, tot_rows), end=\"\", flush=True)\n",
    "        features = feature_extraction(row['filename'])\n",
    "        features.append(row['age'])\n",
    "        new_rows.append(features)\n",
    "\n",
    "    return pd.DataFrame(new_rows, columns=[\"spectral_centroid\", \"spectral_bandwidth\", \"spectral_rolloff\",\n",
    "                                    \"mfcc1\", \"mfcc2\", \"mfcc3\", \"mfcc4\", \"mfcc5\", \"mfcc6\", \"mfcc7\", \"mfcc8\",\n",
    "                                   \"mfcc9\", \"mfcc10\", \"mfcc11\", \"mfcc12\", \"mfcc13\", \"mfcc14\", \"mfcc15\", \"mfcc16\",\n",
    "                                   \"mfcc17\", \"mfcc18\", \"mfcc19\", \"mfcc20\", \"label\"])\n",
    "\n",
    "df_features = create_df_features(data)\n",
    "df_features.head()"
   ]
  },
  {
   "cell_type": "code",
   "execution_count": 55,
   "metadata": {
    "execution": {
     "iopub.execute_input": "2023-04-17T04:54:25.391975Z",
     "iopub.status.busy": "2023-04-17T04:54:25.391164Z",
     "iopub.status.idle": "2023-04-17T04:54:25.426620Z",
     "shell.execute_reply": "2023-04-17T04:54:25.425414Z",
     "shell.execute_reply.started": "2023-04-17T04:54:25.391884Z"
    }
   },
   "outputs": [],
   "source": [
    "from sklearn.preprocessing import StandardScaler\n",
    "\n",
    "def scale_features(data):\n",
    "    scaler = StandardScaler()\n",
    "    scaled_data = scaler.fit_transform(np.array(data.iloc[:, 0:-1], dtype = float))\n",
    "    # with data.iloc[:, 0:-1] we don't consider the label column\n",
    "        \n",
    "    return scaled_data, scaler\n",
    "\n",
    "x, scaler = scale_features(df_features)"
   ]
  },
  {
   "cell_type": "code",
   "execution_count": 56,
   "metadata": {
    "execution": {
     "iopub.execute_input": "2023-04-17T04:54:31.767701Z",
     "iopub.status.busy": "2023-04-17T04:54:31.767255Z",
     "iopub.status.idle": "2023-04-17T04:54:31.777578Z",
     "shell.execute_reply": "2023-04-17T04:54:31.776340Z",
     "shell.execute_reply.started": "2023-04-17T04:54:31.767661Z"
    }
   },
   "outputs": [
    {
     "name": "stdout",
     "output_type": "stream",
     "text": [
      "Before scaling: [2679.9395691628692 3347.669488765762 5745.486745886655 -625.2181396484375\n",
      " 111.32093811035156 6.3269944190979 34.75761413574219 31.619901657104492\n",
      " -4.714645862579346 -0.486030638217926 -4.934024333953857\n",
      " -12.714733123779297 -2.0551483631134033 -3.7411177158355713\n",
      " -10.702962875366211 -11.20263671875 -12.003522872924805\n",
      " -8.489580154418945 -5.463275909423828 -4.954216480255127\n",
      " -3.715198278427124 -6.330528736114502 -6.338474273681641]\n",
      "\n",
      "After scaling: [-0.25987915  0.7097317   0.16449845 -1.99796008 -0.21359015  0.48455671\n",
      "  0.77591265  1.68311737 -0.86681634  0.17214445 -0.27808089 -1.09010144\n",
      "  0.46064246 -0.0217562  -1.17620641 -1.70164541 -1.32448547 -1.17843618\n",
      " -0.55596954 -0.36780946 -0.50348476 -1.03433183 -0.65052311]\n"
     ]
    }
   ],
   "source": [
    "print(\"Before scaling:\", df_features.iloc[0].values[:-1])\n",
    "print(\"\\nAfter scaling:\", x[0])"
   ]
  },
  {
   "cell_type": "code",
   "execution_count": 57,
   "metadata": {
    "execution": {
     "iopub.execute_input": "2023-04-17T04:54:42.878922Z",
     "iopub.status.busy": "2023-04-17T04:54:42.878456Z",
     "iopub.status.idle": "2023-04-17T04:54:42.890858Z",
     "shell.execute_reply": "2023-04-17T04:54:42.889617Z",
     "shell.execute_reply.started": "2023-04-17T04:54:42.878882Z"
    }
   },
   "outputs": [
    {
     "data": {
      "text/plain": [
       "array(['twenties', 'seventies', 'thirties', 'sixties', 'fifties',\n",
       "       'fourties', 'teens', 'eighties'], dtype=object)"
      ]
     },
     "execution_count": 57,
     "metadata": {},
     "output_type": "execute_result"
    }
   ],
   "source": [
    "df_features['label'].unique()\n"
   ]
  },
  {
   "cell_type": "code",
   "execution_count": 74,
   "metadata": {
    "execution": {
     "iopub.execute_input": "2023-04-17T05:58:56.816821Z",
     "iopub.status.busy": "2023-04-17T05:58:56.816290Z",
     "iopub.status.idle": "2023-04-17T05:58:56.837486Z",
     "shell.execute_reply": "2023-04-17T05:58:56.836417Z",
     "shell.execute_reply.started": "2023-04-17T05:58:56.816770Z"
    }
   },
   "outputs": [
    {
     "name": "stdout",
     "output_type": "stream",
     "text": [
      "Before encoding: twenties\n",
      "\n",
      "After encoding: 7\n",
      "\n",
      "Classes: ['eighties' 'fifties' 'fourties' 'seventies' 'sixties' 'teens' 'thirties'\n",
      " 'twenties']\n"
     ]
    }
   ],
   "source": [
    "from sklearn.preprocessing import LabelEncoder\n",
    "\n",
    "def get_labels(data):\n",
    "    labels = data.iloc[:, -1]\n",
    "    encoder = LabelEncoder()\n",
    "    labels = encoder.fit_transform(labels)\n",
    "    return labels, encoder\n",
    "\n",
    "y, encoder = get_labels(df_features)\n",
    "classes = encoder.classes_\n",
    "print(\"Before encoding:\", df_features.iloc[0].values[-1])\n",
    "print(\"\\nAfter encoding:\", y[0])\n",
    "print(\"\\nClasses:\", classes)"
   ]
  },
  {
   "cell_type": "code",
   "execution_count": 75,
   "metadata": {
    "execution": {
     "iopub.execute_input": "2023-04-17T06:01:36.168723Z",
     "iopub.status.busy": "2023-04-17T06:01:36.168183Z",
     "iopub.status.idle": "2023-04-17T06:01:36.179716Z",
     "shell.execute_reply": "2023-04-17T06:01:36.178393Z",
     "shell.execute_reply.started": "2023-04-17T06:01:36.168682Z"
    }
   },
   "outputs": [
    {
     "name": "stdout",
     "output_type": "stream",
     "text": [
      "[7 3 6 ... 2 2 5]\n",
      "['twenties' 'seventies' 'thirties' ... 'fourties' 'fourties' 'teens']\n"
     ]
    }
   ],
   "source": [
    "# Print encoded labels for all instances\n",
    "print(y)\n",
    "\n",
    "decoded_labels = encoder.inverse_transform(y)\n",
    "print(decoded_labels)\n"
   ]
  },
  {
   "cell_type": "markdown",
   "metadata": {},
   "source": [
    "# FEATURE SELECTION"
   ]
  },
  {
   "cell_type": "code",
   "execution_count": 59,
   "metadata": {
    "execution": {
     "iopub.execute_input": "2023-04-17T04:56:17.609554Z",
     "iopub.status.busy": "2023-04-17T04:56:17.608988Z",
     "iopub.status.idle": "2023-04-17T04:56:18.035102Z",
     "shell.execute_reply": "2023-04-17T04:56:18.034023Z",
     "shell.execute_reply.started": "2023-04-17T04:56:17.609501Z"
    }
   },
   "outputs": [
    {
     "data": {
      "image/png": "[encoded data removed]",
      "text/plain": [
       "<Figure size 1584x360 with 1 Axes>"
      ]
     },
     "metadata": {},
     "output_type": "display_data"
    }
   ],
   "source": [
    "from sklearn.feature_selection import SelectKBest\n",
    "from sklearn.feature_selection import f_classif\n",
    "\n",
    "n_features = 22\n",
    "\n",
    "f_selector = SelectKBest(f_classif, k=n_features).fit(x, y)\n",
    "X_new = f_selector.transform(x)\n",
    "scores = f_selector.scores_\n",
    "\n",
    "indices = np.argsort(scores)[::-1]\n",
    "\n",
    "features = []\n",
    "for i in range(n_features):\n",
    "    features.append(df_features.columns[indices[i]])\n",
    "    \n",
    "plt.figure(figsize=(22, 5))\n",
    "plt.bar(features, scores[indices[range(n_features)]], color='g')\n",
    "plt.xticks(fontsize=8)\n",
    "plt.show()\n"
   ]
  },
  {
   "cell_type": "markdown",
   "metadata": {},
   "source": [
    "### Model Selection using cross validation"
   ]
  },
  {
   "cell_type": "code",
   "execution_count": 60,
   "metadata": {
    "execution": {
     "iopub.execute_input": "2023-04-17T04:57:21.776211Z",
     "iopub.status.busy": "2023-04-17T04:57:21.775661Z",
     "iopub.status.idle": "2023-04-17T05:18:58.538375Z",
     "shell.execute_reply": "2023-04-17T05:18:58.537188Z",
     "shell.execute_reply.started": "2023-04-17T04:57:21.776159Z"
    }
   },
   "outputs": [
    {
     "name": "stdout",
     "output_type": "stream",
     "text": [
      "SVC\n",
      "\tFold 1, Best Params {'C': 100, 'gamma': 'auto'} with F1 Score 0.701, F1 Score on Test data 0.762\n",
      "\tFold 2, Best Params {'C': 100, 'gamma': 'auto'} with F1 Score 0.694, F1 Score on Test data 0.756\n",
      "\tFold 3, Best Params {'C': 100, 'gamma': 'scale'} with F1 Score 0.681, F1 Score on Test data 0.763\n",
      "\tAverage F1 Score on Test Set: 0.761\n",
      "\n",
      "RandomForestClassifier\n",
      "\tFold 1, Best Params {'n_estimators': 100} with F1 Score 0.538, F1 Score on Test data 0.596\n",
      "\tFold 2, Best Params {'n_estimators': 200} with F1 Score 0.527, F1 Score on Test data 0.630\n",
      "\tFold 3, Best Params {'n_estimators': 150} with F1 Score 0.519, F1 Score on Test data 0.619\n",
      "\tAverage F1 Score on Test Set: 0.615\n",
      "\n"
     ]
    }
   ],
   "source": [
    "from sklearn.model_selection import KFold\n",
    "from sklearn.model_selection import GridSearchCV\n",
    "from sklearn.svm import SVC\n",
    "from sklearn.ensemble import RandomForestClassifier\n",
    "from sklearn.metrics import f1_score\n",
    "\n",
    "classifiers_and_params = [\n",
    "    (SVC(), {'C': [200, 150, 100], 'gamma': ['auto', 'scale']}),\n",
    "    (RandomForestClassifier(), {'n_estimators': [100, 150, 200]})\n",
    "]\n",
    "\n",
    "for tup in classifiers_and_params:\n",
    "    print(\"{}\".format(tup[0].__class__.__name__))\n",
    "    \n",
    "   \n",
    "    outer_cv = KFold(n_splits=3, shuffle=True, random_state=0)\n",
    "    fold_counter = 0\n",
    "\n",
    "    results = list()\n",
    "    for train_idx, test_idx in outer_cv.split(X_new):\n",
    "        fold_counter += 1\n",
    "        \n",
    "        \n",
    "        X_train, X_test = X_new[train_idx], X_new[test_idx]\n",
    "        y_train, y_test = y[train_idx], y[test_idx]\n",
    "\n",
    "       \n",
    "        inner_cv = KFold(n_splits=2, shuffle=True, random_state=0)\n",
    "        gs = GridSearchCV(tup[0], tup[1], scoring='f1_macro', cv=inner_cv, refit=True)\n",
    "        res = gs.fit(X_train, y_train)\n",
    "\n",
    "        # get the best model, re-fit on the whole training set\n",
    "        best_model = res.best_estimator_\n",
    "\n",
    "        pred = best_model.predict(X_test)\n",
    "        score = f1_score(y_test, pred, average='macro')\n",
    "        results.append(score)\n",
    "        \n",
    "        print(\"\\tFold {}, Best Params {} with F1 Score {:.3f}, F1 Score on Test data {:.3f}\"\n",
    "              .format(fold_counter, res.best_params_, res.best_score_, score))\n",
    "\n",
    "    print('\\tAverage F1 Score on Test Set: {:.3f}\\n'.format(np.mean(results)))"
   ]
  },
  {
   "cell_type": "code",
   "execution_count": 61,
   "metadata": {
    "execution": {
     "iopub.execute_input": "2023-04-17T05:19:46.974991Z",
     "iopub.status.busy": "2023-04-17T05:19:46.974460Z",
     "iopub.status.idle": "2023-04-17T05:19:46.985607Z",
     "shell.execute_reply": "2023-04-17T05:19:46.984476Z",
     "shell.execute_reply.started": "2023-04-17T05:19:46.974940Z"
    }
   },
   "outputs": [],
   "source": [
    "import itertools\n",
    "import matplotlib.pyplot as plt\n",
    "\n",
    "def my_plot_confusion_matrix(cm, classes, normalize=False):\n",
    "    if normalize:\n",
    "        cm = cm.astype('float') / cm.sum(axis=1)[:, np.newaxis]\n",
    "        title = \"Normalized Confusion Matrix\"\n",
    "    else:\n",
    "        title = \"Confusion Matrix (without normalization)\"\n",
    "    \n",
    "    plt.imshow(cm, interpolation='nearest', cmap=plt.cm.Blues)\n",
    "    plt.colorbar()\n",
    "    tick_marks = np.arange(len(classes))\n",
    "    plt.xticks(tick_marks, classes, rotation=45)\n",
    "    plt.yticks(tick_marks, classes)\n",
    "    plt.title(title)\n",
    "\n",
    "    thresh = cm.max() / 2.\n",
    "    fmt = \"{:0.2f}\" if normalize else \"{:d}\"\n",
    "    for i, j in itertools.product(range(cm.shape[0]), range(cm.shape[1])):\n",
    "        plt.text(j, i, fmt.format(cm[i, j]),\n",
    "                 horizontalalignment=\"center\",\n",
    "                 color=\"white\" if cm[i, j] > thresh else \"black\")\n",
    "\n",
    "    plt.tight_layout()\n",
    "    plt.ylabel('True label')\n",
    "    plt.xlabel('Predicted label')\n"
   ]
  },
  {
   "cell_type": "code",
   "execution_count": 63,
   "metadata": {
    "execution": {
     "iopub.execute_input": "2023-04-17T05:25:33.759116Z",
     "iopub.status.busy": "2023-04-17T05:25:33.758545Z",
     "iopub.status.idle": "2023-04-17T05:27:31.449630Z",
     "shell.execute_reply": "2023-04-17T05:27:31.448512Z",
     "shell.execute_reply.started": "2023-04-17T05:25:33.759047Z"
    }
   },
   "outputs": [
    {
     "data": {
      "image/png": "[encoded data removed]",
      "text/plain": [
       "<Figure size 1080x360 with 2 Axes>"
      ]
     },
     "metadata": {},
     "output_type": "display_data"
    }
   ],
   "source": [
    "from sklearn.model_selection import train_test_split\n",
    "from sklearn.metrics import confusion_matrix, accuracy_score\n",
    "\n",
    "X_train, X_test, y_train, y_test = train_test_split(X_new, y, test_size=0.2, random_state=0)\n",
    "\n",
    "model = SVC(C=100, gamma='scale')\n",
    "model.fit(X_train, y_train)\n",
    "y_pred = model.predict(X_test)\n",
    "accuracy = accuracy_score(y_test, y_pred)\n",
    "cm = confusion_matrix(y_test, y_pred)\n",
    "\n",
    "plt.figure()\n",
    "my_plot_confusion_matrix(cm, classes=classes)\n",
    "\n",
    "plt.grid(False)\n",
    "plt.show()"
   ]
  },
  {
   "cell_type": "code",
   "execution_count": 65,
   "metadata": {
    "execution": {
     "iopub.execute_input": "2023-04-17T05:29:01.049247Z",
     "iopub.status.busy": "2023-04-17T05:29:01.048438Z",
     "iopub.status.idle": "2023-04-17T05:29:01.056638Z",
     "shell.execute_reply": "2023-04-17T05:29:01.055185Z",
     "shell.execute_reply.started": "2023-04-17T05:29:01.049186Z"
    }
   },
   "outputs": [
    {
     "name": "stdout",
     "output_type": "stream",
     "text": [
      "Accuracy: 0.7633333333333333\n"
     ]
    }
   ],
   "source": [
    "accuracy = accuracy_score(y_test, y_pred)\n",
    "\n",
    "print(\"Accuracy:\", accuracy)"
   ]
  },
  {
   "cell_type": "code",
   "execution_count": 66,
   "metadata": {
    "execution": {
     "iopub.execute_input": "2023-04-17T05:29:07.453920Z",
     "iopub.status.busy": "2023-04-17T05:29:07.453220Z",
     "iopub.status.idle": "2023-04-17T05:29:08.170371Z",
     "shell.execute_reply": "2023-04-17T05:29:08.169423Z",
     "shell.execute_reply.started": "2023-04-17T05:29:07.453876Z"
    }
   },
   "outputs": [
    {
     "data": {
      "image/png": "[encoded data removed]",
      "text/plain": [
       "<Figure size 1080x360 with 2 Axes>"
      ]
     },
     "metadata": {},
     "output_type": "display_data"
    }
   ],
   "source": [
    "# Plot normalized confusion matrix\n",
    "plt.figure()\n",
    "my_plot_confusion_matrix(cm, classes=classes, normalize=True)\n",
    "\n",
    "plt.grid(False)\n",
    "plt.show()"
   ]
  },
  {
   "cell_type": "code",
   "execution_count": 67,
   "metadata": {
    "execution": {
     "iopub.execute_input": "2023-04-17T05:32:57.315380Z",
     "iopub.status.busy": "2023-04-17T05:32:57.314771Z",
     "iopub.status.idle": "2023-04-17T05:32:57.334780Z",
     "shell.execute_reply": "2023-04-17T05:32:57.333608Z",
     "shell.execute_reply.started": "2023-04-17T05:32:57.315329Z"
    }
   },
   "outputs": [
    {
     "data": {
      "text/plain": [
       "['svm_for_age_pred.sav']"
      ]
     },
     "execution_count": 67,
     "metadata": {},
     "output_type": "execute_result"
    }
   ],
   "source": [
    "import joblib\n",
    "filename = 'svm_for_age_pred.sav'\n",
    "joblib.dump(model, filename)"
   ]
  },
  {
   "cell_type": "code",
   "execution_count": null,
   "metadata": {},
   "outputs": [],
   "source": []
  }
 ],
 "metadata": {
  "kernelspec": {
   "display_name": "Python 3 (ipykernel)",
   "language": "python",
   "name": "python3"
  },
  "language_info": {
   "codemirror_mode": {
    "name": "ipython",
    "version": 3
   },
   "file_extension": ".py",
   "mimetype": "text/x-python",
   "name": "python",
   "nbconvert_exporter": "python",
   "pygments_lexer": "ipython3",
   "version": "3.9.16"
  }
 },
 "nbformat": 4,
 "nbformat_minor": 4
}
